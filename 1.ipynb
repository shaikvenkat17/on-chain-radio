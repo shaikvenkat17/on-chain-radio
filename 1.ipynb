{
 "cells": [
  {
   "cell_type": "code",
   "execution_count": 8,
   "metadata": {},
   "outputs": [
    {
     "name": "stdout",
     "output_type": "stream",
     "text": [
      "1\n"
     ]
    }
   ],
   "source": [
    "def find_missing_arry(nums):\n",
    "    nums = set(nums)\n",
    "    i = 1\n",
    "    while i in nums:\n",
    "        i=i+1\n",
    "    return i\n",
    "my_lsit = [7,8,9,11,12]\n",
    "result =   find_missing_arry(my_lsit)\n",
    "print(result) \n"
   ]
  },
  {
   "cell_type": "code",
   "execution_count": 16,
   "metadata": {},
   "outputs": [
    {
     "name": "stdout",
     "output_type": "stream",
     "text": [
      "Outside Cold Very It's\n"
     ]
    }
   ],
   "source": [
    "def reverse_string(sentence):\n",
    "    words = sentence.split()\n",
    "    reverse_sentence = ' '.join(words[::-1])\n",
    "    return reverse_sentence\n",
    "words =\"It's Very Cold Outside\"\n",
    "\n",
    "result = reverse_string(words)\n",
    "print(result)"
   ]
  },
  {
   "cell_type": "code",
   "execution_count": null,
   "metadata": {},
   "outputs": [],
   "source": []
  },
  {
   "cell_type": "code",
   "execution_count": null,
   "metadata": {},
   "outputs": [],
   "source": []
  }
 ],
 "metadata": {
  "kernelspec": {
   "display_name": "Python 3",
   "language": "python",
   "name": "python3"
  },
  "language_info": {
   "codemirror_mode": {
    "name": "ipython",
    "version": 3
   },
   "file_extension": ".py",
   "mimetype": "text/x-python",
   "name": "python",
   "nbconvert_exporter": "python",
   "pygments_lexer": "ipython3",
   "version": "3.9.6"
  }
 },
 "nbformat": 4,
 "nbformat_minor": 2
}
